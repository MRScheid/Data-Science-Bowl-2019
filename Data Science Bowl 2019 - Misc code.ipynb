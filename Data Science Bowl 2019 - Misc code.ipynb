{
 "cells": [
  {
   "cell_type": "code",
   "execution_count": null,
   "metadata": {},
   "outputs": [],
   "source": [
    "### Fill in missing accuracy group values for all events and\n",
    "### set index to variables that dataframe will be grouped by\n",
    "# 1) First set index and sort chronologically within an \n",
    "#   [installation_id, world] pair with timestamp in index\n",
    "train_order = train_order.set_index(['installation_id','world','timestamp'])\n",
    "train_order = train_order.sort_index()\n",
    "\n",
    "# 2) Backfill then forwardfill NaN values of events around assessments, \n",
    "train_order = train_order.groupby(level=['installation_id','world']).bfill()\n",
    "# train_order = train_order.groupby(level=['installation_id','world']).ffill()\n",
    "\n",
    "# 3) Then fill the rest of the events with 0 for those events \n",
    "# not associated with installation_ids or game_sessions where an assessment took place.  \n",
    "train_order = train_order.fillna(0)\n",
    "\n",
    "# Add accuracy_group and type to index so you can do a multi-level sort\n",
    "train_order = train_order.set_index(['accuracy_group','type'],append=True)\n",
    "\n",
    "# Auto-dispatch the count aggregation on multi-level group using the groupby method\n",
    "# Essentially count the number of event occurences for a particular installation_id ->\n",
    "# world -> accuracy_group -> type of event to get a rough estimate of time spent in \n",
    "# each type of activity\n",
    "train_order_agg = train_order['event_id'].groupby(['installation_id','world','accuracy_group','type']).agg('count')\n",
    "\n"
   ]
  },
  {
   "cell_type": "code",
   "execution_count": null,
   "metadata": {},
   "outputs": [],
   "source": [
    "# Now unstack the type column to get counts for each type of activity with each \n",
    "# [installation_id, world] pair\n",
    "train_type = train_order_agg.unstack('type')\n",
    "\n",
    "# Lines below are equivalent to line above but more complex\n",
    "# train_type = train_order_agg.reset_index(level=3)\n",
    "#train_type = train_type.pivot_table(index=['installation_id','world','accuracy_group'],\n",
    "#                           columns='type',values='event_id')\n",
    "\n",
    "# Fill all [installation_id, world] rows that are missing an activity count with zeros\n",
    "train_type = train_type.fillna(0)\n",
    "\n",
    "# Now move the accuracy group out of the index to look at \n",
    "# correlation with type of activity counts\n",
    "train_type.reset_index(level=2, inplace=True)\n",
    "\n",
    "# Extra line to coerce accuracy_group index to be strings instead of ints\n",
    "# train_type.index = train_type.index.set_levels(train_type.index.levels[2].astype('str'), level=2)"
   ]
  },
  {
   "cell_type": "code",
   "execution_count": null,
   "metadata": {},
   "outputs": [],
   "source": [
    "sns.pairplot(train_type[train_type,\n",
    "             kind=\"scatter\", \n",
    "             hue='accuracy_group')"
   ]
  },
  {
   "cell_type": "code",
   "execution_count": null,
   "metadata": {},
   "outputs": [],
   "source": [
    "from mpl_toolkits.mplot3d import Axes3D\n",
    "fig = plt.figure(figsize=(6,6))\n",
    "ax = Axes3D(fig)\n",
    "\n",
    "xs = train_type['Assessment']\n",
    "ys = train_type['Activity']\n",
    "zs = train_type['Game']\n",
    "color = train_type['accuracy_group']\n",
    "ax.scatter(xs, ys, zs, c=color, label=color)\n",
    "\n",
    "plt.show()"
   ]
  },
  {
   "cell_type": "code",
   "execution_count": null,
   "metadata": {},
   "outputs": [],
   "source": []
  },
  {
   "cell_type": "code",
   "execution_count": null,
   "metadata": {},
   "outputs": [],
   "source": [
    "# Extract all system-initiated instruction events\n",
    "sys_instr_events = specs['info'].str.contains('system-initiated instruction')\n",
    "sys_instr_event_ids = specs[sys_instr_events].event_id.astype('str')\n",
    "\n",
    "train_instr_bool = train['event_id'].str.contains('|'.join(sys_instr_event_ids))\n",
    "train_instr = train[train_instr_bool]\n",
    "train_instr.head()"
   ]
  },
  {
   "cell_type": "code",
   "execution_count": null,
   "metadata": {},
   "outputs": [],
   "source": [
    "# Slice out event_data to look at all those events with a 'dwell_time'\n",
    "dwell_events = train['event_data'].str.contains('dwell')\n",
    "train_instruction = pd.DataFrame(train[dwell_events])\n",
    "\n",
    "# Reset index\n",
    "train_instruction = train_instruction.reset_index()"
   ]
  },
  {
   "cell_type": "code",
   "execution_count": null,
   "metadata": {},
   "outputs": [],
   "source": [
    "# Convert event_data from json to nested dictionary\n",
    "import json\n",
    "train_instruction_events = train_instruction.event_data.apply(json.loads)\n",
    "\n",
    "# Convert and flatten the nested dictionaries in train_dwell.event_data into \n",
    "# a dataframe\n",
    "import pandas as pd\n",
    "from pandas.io.json import json_normalize\n",
    "event_data_flat =  json_normalize(train_instruction_events)\n",
    "frames = [train_instruction, event_data_flat]\n",
    "train_dwell = pd.concat(frames,axis=1)\n",
    "train_dwell.head()"
   ]
  },
  {
   "cell_type": "code",
   "execution_count": null,
   "metadata": {},
   "outputs": [],
   "source": [
    "sns.heatmap(train_dwell)"
   ]
  },
  {
   "cell_type": "code",
   "execution_count": null,
   "metadata": {},
   "outputs": [],
   "source": [
    "# trying to pickout the 'dwell_time' from event_data in the train.csv data set.  Below are all\n",
    "# the strategies I went through\n",
    "\n",
    "# Tried applying pd.DataFrame.from_dict but this didn't work so well\n",
    "train_dwell_convert = train_dwell.apply(pd.DataFrame.from_dict, orient='columns', columns = train_dwell[0].keys())\n",
    "\n",
    "# Tried doing string parsing using str.split and splitting out the dwell_time but this couldn't be applied\n",
    "# across nested JSONs\n",
    "train_dwell_reset.event_data[0].split(':')[1].split(',')[0]\n",
    "\n",
    "# Tried other regular expression functions, but again this was more complicated than necessary\n",
    "import re\n",
    "\n",
    "p = re.compile(':*,?')\n",
    "p.findall()\n",
    "\n",
    "train_dwell_reset.event_data.apply(p.findall)"
   ]
  }
 ],
 "metadata": {
  "kernelspec": {
   "display_name": "Python 3",
   "language": "python",
   "name": "python3"
  },
  "language_info": {
   "codemirror_mode": {
    "name": "ipython",
    "version": 3
   },
   "file_extension": ".py",
   "mimetype": "text/x-python",
   "name": "python",
   "nbconvert_exporter": "python",
   "pygments_lexer": "ipython3",
   "version": "3.7.4"
  }
 },
 "nbformat": 4,
 "nbformat_minor": 2
}
